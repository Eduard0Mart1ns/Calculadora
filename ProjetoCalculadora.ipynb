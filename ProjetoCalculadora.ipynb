{
  "nbformat": 4,
  "nbformat_minor": 0,
  "metadata": {
    "colab": {
      "provenance": []
    },
    "kernelspec": {
      "name": "python3",
      "display_name": "Python 3"
    },
    "language_info": {
      "name": "python"
    }
  },
  "cells": [
    {
      "cell_type": "markdown",
      "source": [
        "### Calculadora"
      ],
      "metadata": {
        "id": "myk3zu8IJthT"
      }
    },
    {
      "cell_type": "code",
      "source": [
        "# adicionar o primeiro numero\n",
        "firstNum = float(input(\"Digite o primeiro numero: \"))\n",
        "# selecionar um operador\n",
        "operator = input(\"Digite um operador (+, -, *, /): \")\n",
        "# adicionar o segundo Numero\n",
        "SecondNum = float(input(\"Digite o segundo numero: \"))\n",
        "# Verificar o operador selecionado\n",
        "if operator == \"+\":\n",
        "    resultado = firstNum + SecondNum\n",
        "elif operator == \"-\":\n",
        "    resultado = firstNum - SecondNum\n",
        "elif operator == \"*\":\n",
        "    resultado = firstNum * SecondNum\n",
        "elif operator == \"/\":\n",
        "    resultado = firstNum / SecondNum\n",
        "#Mostrar o Resultado\n",
        "print(resultado)"
      ],
      "metadata": {
        "colab": {
          "base_uri": "https://localhost:8080/"
        },
        "id": "0wbWKKRROuwv",
        "outputId": "769c170b-a253-416d-84ce-0da9c2d57d83"
      },
      "execution_count": 17,
      "outputs": [
        {
          "output_type": "stream",
          "name": "stdout",
          "text": [
            "Digite o primeiro numero: 6\n",
            "Digite um operador (+, -, *, /): -\n",
            "Digite o segundo numero: 4\n",
            "2.0\n"
          ]
        }
      ]
    }
  ]
}